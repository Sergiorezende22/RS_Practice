{
 "cells": [
  {
   "cell_type": "markdown",
   "metadata": {},
   "source": [
    "# Experimento com RSVD em Sistema de Recomendação\n",
    "Alunos: Eric Bernard e Sérgio Rezende"
   ]
  },
  {
   "cell_type": "markdown",
   "metadata": {},
   "source": [
    "## Imports\n",
    "\n",
    "Importação das bibliotecas que serão utilizadas para lidar com o banco de dados e com a matemática."
   ]
  },
  {
   "cell_type": "code",
   "execution_count": 1,
   "metadata": {},
   "outputs": [],
   "source": [
    "import numpy as np\n",
    "import pandas as pd\n",
    "import random\n",
    "from tqdm import tqdm\n",
    "import math\n",
    "import matplotlib.pyplot as plt"
   ]
  },
  {
   "cell_type": "markdown",
   "metadata": {},
   "source": [
    "## Importando e tratando o Dataset\n",
    "Utilizando o pandas para pegar o dataset do Movielens com 100 mil notas."
   ]
  },
  {
   "cell_type": "code",
   "execution_count": 2,
   "metadata": {},
   "outputs": [
    {
     "data": {
      "text/html": [
       "<div>\n",
       "<style scoped>\n",
       "    .dataframe tbody tr th:only-of-type {\n",
       "        vertical-align: middle;\n",
       "    }\n",
       "\n",
       "    .dataframe tbody tr th {\n",
       "        vertical-align: top;\n",
       "    }\n",
       "\n",
       "    .dataframe thead th {\n",
       "        text-align: right;\n",
       "    }\n",
       "</style>\n",
       "<table border=\"1\" class=\"dataframe\">\n",
       "  <thead>\n",
       "    <tr style=\"text-align: right;\">\n",
       "      <th></th>\n",
       "      <th>user_id</th>\n",
       "      <th>movie_id</th>\n",
       "      <th>rating</th>\n",
       "      <th>timestamp</th>\n",
       "    </tr>\n",
       "  </thead>\n",
       "  <tbody>\n",
       "    <tr>\n",
       "      <th>0</th>\n",
       "      <td>196</td>\n",
       "      <td>242</td>\n",
       "      <td>3</td>\n",
       "      <td>881250949</td>\n",
       "    </tr>\n",
       "    <tr>\n",
       "      <th>1</th>\n",
       "      <td>186</td>\n",
       "      <td>302</td>\n",
       "      <td>3</td>\n",
       "      <td>891717742</td>\n",
       "    </tr>\n",
       "    <tr>\n",
       "      <th>2</th>\n",
       "      <td>22</td>\n",
       "      <td>377</td>\n",
       "      <td>1</td>\n",
       "      <td>878887116</td>\n",
       "    </tr>\n",
       "    <tr>\n",
       "      <th>3</th>\n",
       "      <td>244</td>\n",
       "      <td>51</td>\n",
       "      <td>2</td>\n",
       "      <td>880606923</td>\n",
       "    </tr>\n",
       "    <tr>\n",
       "      <th>4</th>\n",
       "      <td>166</td>\n",
       "      <td>346</td>\n",
       "      <td>1</td>\n",
       "      <td>886397596</td>\n",
       "    </tr>\n",
       "    <tr>\n",
       "      <th>...</th>\n",
       "      <td>...</td>\n",
       "      <td>...</td>\n",
       "      <td>...</td>\n",
       "      <td>...</td>\n",
       "    </tr>\n",
       "    <tr>\n",
       "      <th>99995</th>\n",
       "      <td>880</td>\n",
       "      <td>476</td>\n",
       "      <td>3</td>\n",
       "      <td>880175444</td>\n",
       "    </tr>\n",
       "    <tr>\n",
       "      <th>99996</th>\n",
       "      <td>716</td>\n",
       "      <td>204</td>\n",
       "      <td>5</td>\n",
       "      <td>879795543</td>\n",
       "    </tr>\n",
       "    <tr>\n",
       "      <th>99997</th>\n",
       "      <td>276</td>\n",
       "      <td>1090</td>\n",
       "      <td>1</td>\n",
       "      <td>874795795</td>\n",
       "    </tr>\n",
       "    <tr>\n",
       "      <th>99998</th>\n",
       "      <td>13</td>\n",
       "      <td>225</td>\n",
       "      <td>2</td>\n",
       "      <td>882399156</td>\n",
       "    </tr>\n",
       "    <tr>\n",
       "      <th>99999</th>\n",
       "      <td>12</td>\n",
       "      <td>203</td>\n",
       "      <td>3</td>\n",
       "      <td>879959583</td>\n",
       "    </tr>\n",
       "  </tbody>\n",
       "</table>\n",
       "<p>100000 rows × 4 columns</p>\n",
       "</div>"
      ],
      "text/plain": [
       "       user_id  movie_id  rating  timestamp\n",
       "0          196       242       3  881250949\n",
       "1          186       302       3  891717742\n",
       "2           22       377       1  878887116\n",
       "3          244        51       2  880606923\n",
       "4          166       346       1  886397596\n",
       "...        ...       ...     ...        ...\n",
       "99995      880       476       3  880175444\n",
       "99996      716       204       5  879795543\n",
       "99997      276      1090       1  874795795\n",
       "99998       13       225       2  882399156\n",
       "99999       12       203       3  879959583\n",
       "\n",
       "[100000 rows x 4 columns]"
      ]
     },
     "execution_count": 2,
     "metadata": {},
     "output_type": "execute_result"
    }
   ],
   "source": [
    "ratingsDf = pd.read_csv('../../data/ml-100k/u.data', sep='\\t', header=None, names=['user_id', 'movie_id', 'rating', 'timestamp'])\n",
    "ratingsDf"
   ]
  },
  {
   "cell_type": "markdown",
   "metadata": {},
   "source": [
    "Criando a partir do dataset tupla de notas, (u, v, r). u = Usuário, v = Item, r = Nota."
   ]
  },
  {
   "cell_type": "code",
   "execution_count": 3,
   "metadata": {},
   "outputs": [
    {
     "name": "stdout",
     "output_type": "stream",
     "text": [
      "Dimensões das tuplas: 100000\n",
      "\n",
      "10 Primeiras tuplas:\n"
     ]
    },
    {
     "data": {
      "text/plain": [
       "[[195, 241, 3],\n",
       " [185, 301, 3],\n",
       " [21, 376, 1],\n",
       " [243, 50, 2],\n",
       " [165, 345, 1],\n",
       " [297, 473, 4],\n",
       " [114, 264, 2],\n",
       " [252, 464, 5],\n",
       " [304, 450, 3],\n",
       " [5, 85, 3]]"
      ]
     },
     "execution_count": 3,
     "metadata": {},
     "output_type": "execute_result"
    }
   ],
   "source": [
    "ratings_tuples = []\n",
    "\n",
    "for row in ratingsDf.itertuples(index=False):\n",
    "    user_idx = row.user_id - 1  # Ajustando o índice do usuário para usar a coluna 0\n",
    "    movie_idx = row.movie_id - 1  # Ajustando o índice do filme para usar a coluna 0\n",
    "    ratings_tuples.append([user_idx, movie_idx, row.rating])\n",
    "\n",
    "print(f\"Dimensões das tuplas: {len(ratings_tuples)}\")\n",
    "\n",
    "print(f\"\\n10 Primeiras tuplas:\")\n",
    "ratings_tuples[:10]"
   ]
  },
  {
   "cell_type": "markdown",
   "metadata": {},
   "source": [
    "Para testar o RSVD pegamos um sample de 5000 notas e depois removemos essas notas das notas que vão para o treino."
   ]
  },
  {
   "cell_type": "code",
   "execution_count": 4,
   "metadata": {},
   "outputs": [],
   "source": [
    "# Pegando avaliações para usar de teste\n",
    "x_test = ratingsDf.sample(n=5000, random_state=123)\n",
    "\n",
    "# Removendo do treino as avaliações que foram para o teste\n",
    "for _ , row in x_test.iterrows():\n",
    "    ratings_tuples.remove([row.user_id - 1, row.movie_id - 1, row.rating])"
   ]
  },
  {
   "cell_type": "markdown",
   "metadata": {},
   "source": [
    "## Classe do RSVD\n",
    "\n",
    "Classe baseada no formato das classes do Pytorch, com método fit() usado para treinar o modelo e predict() para fazer uma predição usando o modelo."
   ]
  },
  {
   "cell_type": "code",
   "execution_count": 5,
   "metadata": {},
   "outputs": [],
   "source": [
    "class RSVD:\n",
    "    def __init__(self, lenUsers, lenMovies, k=3, learning_rate=0.01, regularization=0.02, iterations=100):\n",
    "        self.k = k\n",
    "        self.learning_rate = learning_rate\n",
    "        self.regularization = regularization\n",
    "        self.iterations = iterations\n",
    "        self.P = None\n",
    "        self.Q = None\n",
    "        self.error = float('inf')\n",
    "        self.lenUsers = lenUsers\n",
    "        self.lenMovies = lenMovies\n",
    "    \n",
    "    def fit(self, ratings):\n",
    "        # Inicializando P e Q caso não estejam inicializadas\n",
    "        if self.P is None:\n",
    "            self.P = np.random.rand(self.lenUsers, self.k)\n",
    "            self.Q = np.random.rand(self.k, self.lenMovies)\n",
    "\n",
    "        idx = list(range(len(ratings)))\n",
    "        random.shuffle(idx)\n",
    "\n",
    "        print(f\"Iterando com k igual a {self.k}\")\n",
    "        for _ in tqdm(range(self.iterations)):\n",
    "            total_error = 0.0\n",
    "\n",
    "            for i in idx:\n",
    "                u, v, r = ratings[idx[i]]\n",
    "                # Cálculo do erro\n",
    "                e = r - self.predict(u, v)\n",
    "\n",
    "                # Atualizando variáveis latentes\n",
    "                P = self.P[u, :]\n",
    "                Q = self.Q[:, v]\n",
    "                self.P[u, :] += self.learning_rate * (e * Q - self.regularization * P)\n",
    "                self.Q[:, v] += self.learning_rate * (e * P - self.regularization * Q)\n",
    "\n",
    "                total_error += (np.power(e, 2) + self.learning_rate * (np.power(np.linalg.norm(self.Q[:, v]), 2) + np.power(np.linalg.norm(self.P[u, :]), 2)))\n",
    "\n",
    "            if total_error > self.error:\n",
    "                break\n",
    "\n",
    "            self.error = total_error\n",
    "\n",
    "    def predict(self, user_id, item_id):\n",
    "        prediction = np.dot(self.P[user_id, :], self.Q[:, item_id])\n",
    "        return prediction"
   ]
  },
  {
   "cell_type": "markdown",
   "metadata": {},
   "source": [
    "## Treino e teste do modelo\n",
    "\n",
    "Função criada para pegar o erro do modelo."
   ]
  },
  {
   "cell_type": "code",
   "execution_count": 6,
   "metadata": {},
   "outputs": [],
   "source": [
    "def get_errors(RSVD, y, x_test):\n",
    "    predictedValues = []\n",
    "    \n",
    "    for _ , row in x_test.iterrows():\n",
    "        predictedValues = np.append(predictedValues, RSVD.predict(row.user_id - 1, row.movie_id - 1))\n",
    "\n",
    "    rmse = math.sqrt(np.mean((predictedValues - y) ** 2))\n",
    "    mae = np.mean(np.abs(predictedValues - y))\n",
    "        \n",
    "    return rmse, mae"
   ]
  },
  {
   "cell_type": "markdown",
   "metadata": {},
   "source": [
    "Iterando o k de 1 até 9 e pegando o rmse e mae de cada iteração."
   ]
  },
  {
   "cell_type": "code",
   "execution_count": 7,
   "metadata": {},
   "outputs": [
    {
     "name": "stdout",
     "output_type": "stream",
     "text": [
      "Iterando com k igual a 1\n"
     ]
    },
    {
     "name": "stderr",
     "output_type": "stream",
     "text": [
      " 49%|████▉     | 49/100 [02:06<02:11,  2.58s/it]\n"
     ]
    },
    {
     "name": "stdout",
     "output_type": "stream",
     "text": [
      "Iterando com k igual a 2\n"
     ]
    },
    {
     "name": "stderr",
     "output_type": "stream",
     "text": [
      "100%|██████████| 100/100 [04:02<00:00,  2.43s/it]\n"
     ]
    },
    {
     "name": "stdout",
     "output_type": "stream",
     "text": [
      "Iterando com k igual a 3\n"
     ]
    },
    {
     "name": "stderr",
     "output_type": "stream",
     "text": [
      "100%|██████████| 100/100 [04:01<00:00,  2.42s/it]\n"
     ]
    },
    {
     "name": "stdout",
     "output_type": "stream",
     "text": [
      "Iterando com k igual a 4\n"
     ]
    },
    {
     "name": "stderr",
     "output_type": "stream",
     "text": [
      "100%|██████████| 100/100 [03:55<00:00,  2.35s/it]\n"
     ]
    },
    {
     "name": "stdout",
     "output_type": "stream",
     "text": [
      "Iterando com k igual a 5\n"
     ]
    },
    {
     "name": "stderr",
     "output_type": "stream",
     "text": [
      "100%|██████████| 100/100 [03:56<00:00,  2.36s/it]\n"
     ]
    },
    {
     "name": "stdout",
     "output_type": "stream",
     "text": [
      "Iterando com k igual a 6\n"
     ]
    },
    {
     "name": "stderr",
     "output_type": "stream",
     "text": [
      "100%|██████████| 100/100 [03:59<00:00,  2.40s/it]\n"
     ]
    },
    {
     "name": "stdout",
     "output_type": "stream",
     "text": [
      "Iterando com k igual a 7\n"
     ]
    },
    {
     "name": "stderr",
     "output_type": "stream",
     "text": [
      "100%|██████████| 100/100 [03:58<00:00,  2.39s/it]\n"
     ]
    },
    {
     "name": "stdout",
     "output_type": "stream",
     "text": [
      "Iterando com k igual a 8\n"
     ]
    },
    {
     "name": "stderr",
     "output_type": "stream",
     "text": [
      "100%|██████████| 100/100 [03:49<00:00,  2.30s/it]\n"
     ]
    },
    {
     "name": "stdout",
     "output_type": "stream",
     "text": [
      "Iterando com k igual a 9\n"
     ]
    },
    {
     "name": "stderr",
     "output_type": "stream",
     "text": [
      "100%|██████████| 100/100 [03:40<00:00,  2.21s/it]\n"
     ]
    }
   ],
   "source": [
    "x_test.sort_values(by=['user_id', 'movie_id'], inplace=True)\n",
    "y = np.array(x_test['rating'])\n",
    "\n",
    "k_range = range(1, 10)\n",
    "rmse_euclidean = []\n",
    "mae_euclidean = []\n",
    "rmseArr = []\n",
    "maeArr = []\n",
    "\n",
    "for k in k_range:\n",
    "    rsvd = RSVD(943, 1682, k)\n",
    "    rsvd.fit(ratings_tuples)\n",
    "    rmse, mae = get_errors(rsvd, y, x_test)\n",
    "    rmseArr.append(rmse)\n",
    "    maeArr.append(mae)"
   ]
  },
  {
   "cell_type": "markdown",
   "metadata": {},
   "source": [
    "## Resultados"
   ]
  },
  {
   "cell_type": "markdown",
   "metadata": {},
   "source": [
    "O mínimo local do modelo ficou com k=4."
   ]
  },
  {
   "cell_type": "code",
   "execution_count": 8,
   "metadata": {},
   "outputs": [
    {
     "data": {
      "image/png": "[encoded data removed]",
      "text/plain": [
       "<Figure size 640x480 with 2 Axes>"
      ]
     },
     "metadata": {},
     "output_type": "display_data"
    }
   ],
   "source": [
    "fig, ax = plt.subplots(2)\n",
    "ax[0].plot(k_range, rmseArr)\n",
    "ax[0].set_title(\"RSVD\")\n",
    "ax[0].set_ylabel(\"RMSE\")\n",
    "ax[1].plot(k_range, maeArr)\n",
    "ax[1].set_xlabel(\"K\")\n",
    "ax[1].set_ylabel(\"MAE\")\n",
    "\n",
    "plt.show()"
   ]
  },
  {
   "cell_type": "code",
   "execution_count": 9,
   "metadata": {},
   "outputs": [],
   "source": [
    "globalMean = np.mean(ratings_tuples, axis=0)[2]\n",
    "predicted_global = [globalMean for _ in range(len(y))]\n",
    "\n",
    "\n",
    "rmse_global = math.sqrt(np.mean((predicted_global - y) ** 2))\n",
    "rmse_global_arr = [rmse_global for _ in range(len(rmseArr))]\n",
    "\n",
    "mae_global = np.mean(np.abs(predicted_global - y))\n",
    "mae_global_arr = [mae_global for _ in range(len(maeArr))]"
   ]
  },
  {
   "cell_type": "markdown",
   "metadata": {},
   "source": [
    "Para comparar os resultados obtidos, criamos um modelo que sempre avalia a nota como a média global. É possível ver que o RSVD ficou com um desempenho bem melhor."
   ]
  },
  {
   "cell_type": "code",
   "execution_count": 11,
   "metadata": {},
   "outputs": [
    {
     "data": {
      "image/png": "[encoded data removed]",
      "text/plain": [
       "<Figure size 640x480 with 2 Axes>"
      ]
     },
     "metadata": {},
     "output_type": "display_data"
    }
   ],
   "source": [
    "fig, ax = plt.subplots(2)\n",
    "ax[0].plot(k_range, rmseArr)\n",
    "ax[0].set_title(\"RSVD x Global\")\n",
    "ax[0].set_ylabel(\"RMSE\")\n",
    "ax[0].plot(k_range, rmse_global_arr)\n",
    "ax[0].legend([\"RSVD\", \"Global\"])\n",
    "ax[1].plot(k_range, maeArr)\n",
    "ax[1].set_xlabel(\"K\")\n",
    "ax[1].set_ylabel(\"MAE\")\n",
    "ax[1].plot(k_range, mae_global_arr)\n",
    "ax[1].legend([\"RSVD\", \"Global\"])\n",
    "\n",
    "plt.show()"
   ]
  }
 ],
 "metadata": {
  "kernelspec": {
   "display_name": "Python 3",
   "language": "python",
   "name": "python3"
  },
  "language_info": {
   "codemirror_mode": {
    "name": "ipython",
    "version": 3
   },
   "file_extension": ".py",
   "mimetype": "text/x-python",
   "name": "python",
   "nbconvert_exporter": "python",
   "pygments_lexer": "ipython3",
   "version": "3.10.11"
  },
  "orig_nbformat": 4
 },
 "nbformat": 4,
 "nbformat_minor": 2
}
